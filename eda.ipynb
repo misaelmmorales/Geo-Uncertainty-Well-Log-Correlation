{
 "cells": [
  {
   "cell_type": "code",
   "execution_count": 1,
   "metadata": {},
   "outputs": [],
   "source": [
    "import numpy as np\n",
    "from tqdm import tqdm\n",
    "from librosa.sequence import dtw\n",
    "\n",
    "#import pyvista as pv\n",
    "import matplotlib as mpl\n",
    "import matplotlib.pyplot as plt\n",
    "from matplotlib.gridspec import GridSpec\n",
    "\n",
    "from scipy import ndimage\n",
    "\n",
    "cmap, interp = 'Accent', 'bicubic'"
   ]
  },
  {
   "cell_type": "code",
   "execution_count": 2,
   "metadata": {},
   "outputs": [],
   "source": [
    "# facies = np.zeros((318, 256, 256, 128))\n",
    "# for i in tqdm(range(318)):\n",
    "#     facies[i] = np.load('data/facies/facies_{}.npy'.format(i))\n",
    "\n",
    "facies = np.load('data/facies.npy')\n",
    "print('Facies: {}'.format(facies.shape))"
   ]
  },
  {
   "cell_type": "code",
   "execution_count": null,
   "metadata": {},
   "outputs": [],
   "source": [
    "sample = 100\n",
    "# d = ndimage.gaussian_filter(facies[sample], sigma=2/3)\n",
    "d = facies[sample]\n",
    "print('Sample: {}'.format(sample))"
   ]
  },
  {
   "cell_type": "code",
   "execution_count": null,
   "metadata": {},
   "outputs": [],
   "source": [
    "plt.figure(figsize=(20,5))\n",
    "\n",
    "plt.subplot(131)\n",
    "plt.imshow(d[:,:,64], cmap=cmap, interpolation=interp)\n",
    "plt.title('Cross-section Z=64')\n",
    "plt.xlabel('X'); plt.ylabel('Y')\n",
    "\n",
    "plt.subplot(132)\n",
    "plt.imshow(d[:,128,:].T, cmap=cmap, interpolation=interp)\n",
    "plt.title('Crossline Y=128')\n",
    "plt.xlabel('X'); plt.ylabel('Z')\n",
    "\n",
    "plt.subplot(133)\n",
    "plt.imshow(d[128,:,:].T, cmap=cmap, interpolation=interp)\n",
    "plt.title('Inline X=128')\n",
    "plt.xlabel('Y'); plt.ylabel('Z')\n",
    "\n",
    "plt.suptitle('Facies sample {}'.format(sample), weight='bold')\n",
    "plt.tight_layout()\n",
    "#plt.savefig('figures/xyz-maps.png', dpi=600)\n",
    "plt.show()"
   ]
  },
  {
   "cell_type": "code",
   "execution_count": 30,
   "metadata": {},
   "outputs": [],
   "source": [
    "# ### 3D Visualization ###\n",
    "# p = pv.Plotter()\n",
    "# mesh = pv.wrap(np.flip(d))\n",
    "\n",
    "# m1 = mesh.slice_orthogonal()\n",
    "# p.add_mesh(m1, cmap=cmap)\n",
    "\n",
    "# p.show(jupyter_backend='static')"
   ]
  },
  {
   "cell_type": "code",
   "execution_count": 31,
   "metadata": {},
   "outputs": [],
   "source": [
    "nw = 5\n",
    "\n",
    "depth = np.arange(d.shape[-1]) + 1000\n",
    "wx, wy = np.random.randint(15, 239, size=(2,nw))\n",
    "well_log = d[wy, wx, :]\n",
    "noise_log = d[wy, wx, :] + np.random.normal(0, 0.25*d.std(), d.shape[-1])"
   ]
  },
  {
   "cell_type": "code",
   "execution_count": null,
   "metadata": {},
   "outputs": [],
   "source": [
    "plt.figure(figsize=(20,6))\n",
    "for i in range(16):\n",
    "    plt.subplot(3, 8, i+1)\n",
    "    k = i * 8 + 5\n",
    "    plt.imshow(d[...,k], cmap=cmap, interpolation=interp)\n",
    "    [plt.scatter(wx[i], wy[i], marker='v', edgecolor='k', c='C{}'.format(i), s=100) for i in range(nw)]\n",
    "    plt.xticks([]); plt.yticks([])\n",
    "    plt.ylabel('z = {}'.format(k))\n",
    "plt.suptitle('Sample {}'.format(sample), weight='bold')\n",
    "plt.tight_layout()\n",
    "#plt.savefig('figures/aerial-wells.png', dpi=600)\n",
    "plt.show()"
   ]
  },
  {
   "cell_type": "code",
   "execution_count": null,
   "metadata": {},
   "outputs": [],
   "source": [
    "fig, axs = plt.subplots(1, nw, figsize=(20, 7), sharex=True, sharey=True)\n",
    "for i, (x, y) in enumerate(zip(wx, wy)):\n",
    "    axs[i].plot(well_log[i], depth, c='C{}'.format(i))\n",
    "    axs[i].plot(noise_log[i], depth, c='C{}'.format(i), ls='--')\n",
    "    axs[i].set_title('W{} ({}, {})'.format(i, x, y), color='C{}'.format(i))\n",
    "    axs[i].grid(True, which='both', alpha=0.5)\n",
    "    #axs[i].set(xticks=np.arange(6), xticklabels=np.arange(6), xlabel='Facies (rock class)')\n",
    "axs[0].invert_yaxis()\n",
    "axs[0].set_ylabel('Depth [ft]', weight='bold')\n",
    "plt.suptitle('Sample {}'.format(sample), weight='bold')\n",
    "plt.tight_layout()\n",
    "#plt.savefig('figures/logs.png', dpi=600)\n",
    "plt.show()"
   ]
  },
  {
   "cell_type": "code",
   "execution_count": null,
   "metadata": {},
   "outputs": [],
   "source": [
    "fig = plt.figure(figsize=(20, 8))\n",
    "gs = GridSpec(2, 6, figure=fig)\n",
    "ax1 = fig.add_subplot(gs[0, :2]) \n",
    "ax2 = fig.add_subplot(gs[0, 2:4])\n",
    "ax3 = fig.add_subplot(gs[0, 4:])\n",
    "ax4 = fig.add_subplot(gs[1, 1:3])\n",
    "ax5 = fig.add_subplot(gs[1, 3:5])\n",
    "axs = [ax1, ax2, ax3, ax4, ax5]\n",
    "\n",
    "for i, ax in enumerate(axs):\n",
    "    ax.set_title('Well {} ({},{})'.format(i, wx[i], wy[i]), color='C{}'.format(i))\n",
    "    ax.imshow(d[wy[i]].T, cmap=cmap, interpolation=interp)\n",
    "    ax.scatter(wx[i], 0, c='C{}'.format(i), marker='v', edgecolor='k', s=125, zorder=9)\n",
    "    ax.plot(np.repeat(wx[i], 128), np.arange(128), c='C{}'.format(i), lw=1, ls=':')\n",
    "    ax.plot(np.repeat(wx[i], 128)+well_log[i], np.arange(128), c='C{}'.format(i), lw=2)\n",
    "plt.suptitle('Sample {}'.format(sample), weight='bold')\n",
    "plt.tight_layout()\n",
    "#plt.savefig('figures/logs-xsection.png', dpi=600)\n",
    "plt.show()"
   ]
  },
  {
   "cell_type": "markdown",
   "metadata": {},
   "source": [
    "***\n",
    "### Dynamic Time Warping for Well Log Correlation"
   ]
  },
  {
   "cell_type": "code",
   "execution_count": 35,
   "metadata": {},
   "outputs": [],
   "source": [
    "def plot_correlation(log1, log2, wp, d1=None, d2=None, step:int=5, figsize=(5,7), wspace=5, colors=['C0', 'C1'], cmap='Accent'):\n",
    "    colormap = mpl.colormaps.get_cmap(cmap)\n",
    "    lb = np.min([log1.min(), log2.min()])-0.5\n",
    "    d1 = depth if d1 is None else d1\n",
    "    d2 = depth if d2 is None else d2\n",
    "    p, q = wp[:,0], wp[:,1]\n",
    "\n",
    "    fig = plt.figure(figsize=figsize)\n",
    "    ax = fig.add_subplot(111)\n",
    "    \n",
    "    ax.plot(log1,          d1-np.min(d1), c=colors[0])\n",
    "    ax.plot(log2 + wspace, d2-np.min(d2), c=colors[1])\n",
    "    \n",
    "    for i in range(0, len(p)-step, step):\n",
    "        \n",
    "        # intervals for log on the left:\n",
    "        depth1_base = d1[p[i]]-np.min(d1)\n",
    "        depth1_top = d1[p[i+step]]-np.min(d1)\n",
    "        if p[i+step] < p[i]:\n",
    "            mean_log1 = np.mean(log1[p[i+step]: p[i]])\n",
    "            fillcolor = colormap(mean_log1)\n",
    "            x = [lb, wspace-1, wspace-1, lb]\n",
    "            y = [depth1_base, depth1_base, depth1_top, depth1_top]\n",
    "            plt.fill(x, y, color=fillcolor)\n",
    "            plt.plot([0, 0], [depth1_base, depth1_top], c='k', lw=0.5, ls=':')\n",
    "        else:\n",
    "            mean_log1 = log1[p[i]]\n",
    "\n",
    "        # intervals for log on the right:\n",
    "        depth2_base = d2[q[i]]-np.min(d2)\n",
    "        depth2_top = d2[q[i+step]]-np.min(d2)\n",
    "        if q[i+step] < q[i]:  \n",
    "            mean_log2 = np.mean(log2[q[i+step]: q[i]])\n",
    "            fillcolor = colormap(mean_log2)\n",
    "            x = [wspace, wspace+wspace, wspace+wspace, wspace]\n",
    "            y = [depth2_base, depth2_base, depth2_top, depth2_top]\n",
    "            plt.fill(x, y, color=fillcolor)\n",
    "            plt.plot([wspace, wspace], [depth2_base, depth2_top], c='k', lw=0.5, ls=':')\n",
    "        else:\n",
    "            mean_log2 = log2[q[i]]\n",
    "\n",
    "        # intervals between the two logs:\n",
    "        if (p[i+step] < p[i]) or (q[i+step] < q[i]):\n",
    "            mean_logs = (mean_log1 + mean_log2)/2\n",
    "            fillcolor = colormap(mean_logs)\n",
    "            x = [wspace-1, wspace, wspace, wspace-1]\n",
    "            y = [depth1_base, depth2_base, depth2_top, depth1_top]\n",
    "            plt.fill(x, y, color=fillcolor)\n",
    "            plt.plot([wspace-1, wspace-1], [depth1_top, depth1_base], c='k', lw=0.5, ls=':')\n",
    "\n",
    "    plt.xticks([])\n",
    "    plt.xlim(lb, wspace*2)\n",
    "    plt.yticks(np.arange(0, len(depth), 20), depth[::20])\n",
    "    plt.ylabel('depth (ft)')\n",
    "    plt.ylim(0, len(d1))\n",
    "\n",
    "    plt.gca().invert_yaxis()\n",
    "    return None"
   ]
  },
  {
   "cell_type": "code",
   "execution_count": null,
   "metadata": {},
   "outputs": [],
   "source": [
    "w1, w2 = well_log[0], well_log[3]\n",
    "\n",
    "D, wp = dtw(w1, w2)\n",
    "print('D: {} | wp: {}'.format(D.shape, wp.shape))\n",
    "plot_correlation(w1, w2, wp, colors=['C0', 'C3'])"
   ]
  },
  {
   "cell_type": "markdown",
   "metadata": {},
   "source": [
    "***\n",
    "# END"
   ]
  }
 ],
 "metadata": {
  "kernelspec": {
   "display_name": "rapid",
   "language": "python",
   "name": "python3"
  },
  "language_info": {
   "codemirror_mode": {
    "name": "ipython",
    "version": 3
   },
   "file_extension": ".py",
   "mimetype": "text/x-python",
   "name": "python",
   "nbconvert_exporter": "python",
   "pygments_lexer": "ipython3",
   "version": "3.11.9"
  }
 },
 "nbformat": 4,
 "nbformat_minor": 2
}
